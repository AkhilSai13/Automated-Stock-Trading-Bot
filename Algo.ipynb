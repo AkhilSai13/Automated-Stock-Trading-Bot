{
  "cells": [
    {
      "cell_type": "markdown",
      "metadata": {
        "id": "view-in-github",
        "colab_type": "text"
      },
      "source": [
        "<a href=\"https://colab.research.google.com/github/AkhilSai13/Automated-Stock-Trading-Bot/blob/main/Algo.ipynb\" target=\"_parent\"><img src=\"https://colab.research.google.com/assets/colab-badge.svg\" alt=\"Open In Colab\"/></a>"
      ]
    },
    {
      "cell_type": "code",
      "execution_count": null,
      "metadata": {
        "id": "tUPDQVWFrtUo"
      },
      "outputs": [],
      "source": [
        "! pip install yfinance"
      ]
    },
    {
      "cell_type": "code",
      "execution_count": null,
      "metadata": {
        "id": "Xe2ShSaSblpU"
      },
      "outputs": [],
      "source": [
        "import pandas as pd\n",
        "import yfinance as yf\n",
        "\n",
        "symbol_list = [\"ADANIENT.NS\", \"ADANIPORTS.NS\", \"APOLLOHOSP.NS\", \"ASIANPAINT.NS\", \"AXISBANK.NS\", \"BAJAJ-AUTO.NS\", \"BAJAJFINSV.NS\", \"BHARTIARTL.NS\", \"BPCL.NS\", \"BRITANNIA.NS\", \"CIPLA.NS\", \"COALINDIA.NS\", \"DIVISLAB.NS\", \"DRREDDY.NS\", \"EICHERMOT.NS\", \"GRASIM.NS\", \"HCLTECH.NS\", \"HDFC.NS\", \"HDFCBANK.NS\", \"HDFCLIFE.NS\", \"HEROMOTOCO.NS\", \"HINDALCO.NS\", \"HINDUNILVR.NS\", \"ICICIBANK.NS\", \"INDUSINDBK.NS\", \"INFY.NS\", \"ITC.NS\", \"JSWSTEEL.NS\", \"KOTAKBANK.NS\", \"LT.NS\", \"M&M.NS\", \"NTPC.NS\", \"ONGC.NS\", \"POWERGRID.NS\", \"RELIANCE.NS\", \"SBILIFE.NS\", \"SBIN.NS\", \"SUNPHARMA.NS\", \"TATACONSUM.NS\", \"TATAMOTORS.NS\", \"TATASTEEL.NS\", \"TCS.NS\", \"TECHM.NS\", \"TITAN.NS\", \"UPL.NS\", \"WIPRO.NS\"]\n",
        "stock_names = [\"Adani Enterprises Ltd.\", \"Adani Ports and Special Economic Zone Ltd.\", \"Apollo Hospitals Enterprise Ltd.\", \"Asian Paints Ltd.\", \"Axis Bank Ltd.\", \"Bajaj Auto Ltd.\", \"Bajaj Finserv Ltd.\", \"Bharat Petroleum Corporation Ltd.\", \"Bharti Airtel Ltd.\", \"Britannia Industries Ltd.\", \"Cipla Ltd.\", \"Coal India Ltd.\", \"Divi's Laboratories Ltd.\", \"Dr. Reddy's Laboratories Ltd.\", \"Eicher Motors Ltd.\", \"Grasim Industries Ltd.\", \"HCL Technologies Ltd.\", \"Housing Development Finance Corporation Ltd.\", \"HDFC Bank Ltd.\", \"HDFC Life Insurance Company Ltd.\", \"Hero MotoCorp Ltd.\", \"Hindalco Industries Ltd.\", \"Hindustan Unilever Ltd.\", \"ICICI Bank Ltd.\", \"IndusInd Bank Ltd.\", \"Infosys Ltd.\", \"ITC Ltd.\", \"JSW Steel Ltd.\", \"Kotak Mahindra Bank Ltd.\", \"Larsen & Toubro Ltd.\", \"Mahindra & Mahindra Ltd.\", \"NTPC Ltd.\", \"Oil & Natural Gas Corporation Ltd.\", \"Power Grid Corporation of India Ltd.\", \"Reliance Industries Ltd.\", \"SBI Life Insurance Company Ltd.\", \"State Bank of India\", \"Sun Pharmaceutical Industries Ltd.\", \"Tata Consumer Products Ltd.\", \"Tata Motors Ltd.\", \"Tata Steel Ltd.\", \"Tata Consultancy Services Ltd.\", \"Tech Mahindra Ltd.\", \"Titan Company Ltd.\", \"UPL Ltd.\", \"Wipro Ltd.\"]\n",
        "\n",
        "year = ['2019-12-02', '2023-01-30']\n",
        "\n",
        "li = []\n",
        "\n",
        "stk_names = []\n",
        "entry_dt = []\n",
        "entry_price = []\n",
        "exit_dt = []\n",
        "exit1 = []\n",
        "exit2 = [] \n",
        "exit3 = []\n",
        "pro_li = []\n",
        "\n",
        "for j in range(len(year)-1):\n",
        "    #profit_final = []\n",
        "    for k in range(len(symbol_list)):\n",
        "        symbol = symbol_list[k]\n",
        "        try:  \n",
        "            df = yf.download(symbol, start = year[j], end = year[j+1], interval = '1wk', rounding = True)\n",
        "\n",
        "            df = df.dropna()\n",
        "            df = df.reset_index()\n",
        "\n",
        "            # For buy then sell\n",
        "            status = 0\n",
        "            quantity = 0\n",
        "            profit = 0\n",
        "            Entry = 0\n",
        "            t1 = 0\n",
        "            t2 = 0\n",
        "            Fixed_Sl = 0\n",
        "            Trailing_Sl = 0\n",
        "            sl = 0\n",
        "            t1_status = 0\n",
        "            t2_status = 0\n",
        "            date=\"\"\n",
        "            e1 = 0\n",
        "            e2 = 0\n",
        "            e3 = 0\n",
        "            cp = 0\n",
        "\n",
        "            for i in range(2, len(df)):\n",
        "                #For Buy then Sell\n",
        "                if (status == 0):\n",
        "                    Entry = max(df['High'][i-2], df['High'][i-1])\n",
        "                    t1 = round(Entry * 1.03, 2)\n",
        "                    t2 = round(Entry * 1.06, 2)\n",
        "                    chigh = df['High'][i]\n",
        "                    Fixed_Sl = round(Entry * 0.97, 2)\n",
        "                    Trailing_Sl = min(df['Low'][i-2], df['Low'][i-1])\n",
        "                    sl = max(Fixed_Sl, Trailing_Sl)\n",
        "                    if (chigh > Entry):\n",
        "                        status = 1\n",
        "                        date = df['Date'][i]\n",
        "                        quantity = 1\n",
        "                        stk_names.append(stock_names[k])\n",
        "                        entry_dt.append(df['Date'][i])\n",
        "                        entry_price.append(Entry)\n",
        "                if status == 1:\n",
        "                    Fixed_Sl = round(Entry * 0.97, 2)\n",
        "                    chigh = df['High'][i]\n",
        "                    Trailing_Sl = min(df['Low'][i-2], df['Low'][i-1])\n",
        "                    sl = max(Fixed_Sl, Trailing_Sl)\n",
        "                    if chigh > t1 and t1_status == 0:\n",
        "                        exited_quantity = 0.33\n",
        "                        cp += 3 * exited_quantity\n",
        "                        #profit += 3 * exited_quantity\n",
        "                        quantity =  quantity - exited_quantity \n",
        "                        t1_status = 1\n",
        "                        e1 = t1\n",
        "                    if chigh > t2 and t2_status == 0:\n",
        "                        exited_quantity = quantity * 0.5\n",
        "                        cp += 6 * exited_quantity\n",
        "                        #profit += 6 * exited_quantity\n",
        "                        quantity =  quantity - exited_quantity\n",
        "                        t2_status = 1\n",
        "                        e2 = t2\n",
        "                    if df['Low'][i] < sl and df['Date'][i] != date:\n",
        "                        cp += round((sl - Entry)*100/Entry*quantity,2)\n",
        "                        #profit += round((sl - Entry)*100/Entry*quantity,2)\n",
        "                        quantity = 0\n",
        "                        status = 0\n",
        "                        t1_status = 0\n",
        "                        t2_status = 0\n",
        "                        e3 = sl\n",
        "                        exit_dt.append(df['Date'][i])\n",
        "                        pro_li.append(cp)\n",
        "                        exit1.append(e1)\n",
        "                        exit2.append(e2)\n",
        "                        exit3.append(e3)\n",
        "                        e1 = 0\n",
        "                        e2 = 0\n",
        "                        e3 = 0\n",
        "                        cp = 0\n",
        "                        t1 = 0\n",
        "                        t2 = 0\n",
        "            if len(stk_names)>len(exit_dt):\n",
        "                exit_dt.append(\"NA\")\n",
        "                pro_li.append(\"NA\")\n",
        "                exit1.append(\"NA\")\n",
        "                exit2.append(\"NA\")\n",
        "                exit3.append(\"NA\")\n",
        "\n",
        "            #profit_final.append(round((profit*5), 2))\n",
        "        except:\n",
        "            pass\n",
        "            #profit_final.append(0)\n",
        "    #li.append(profit_final)\n",
        "\n",
        "stock_dict = {'Stock Name': stk_names, \"entry_date\" : entry_dt, \"exit_date\" : exit_dt, \"entry_price\" : entry_price, \"exit_price1\" : exit1, \"exit_price2\" : exit2, \"exit_price3\" : exit3, \"profit\" : pro_li}\n",
        "\n",
        "stock_df = pd.DataFrame(stock_dict)\n"
      ]
    },
    {
      "cell_type": "code",
      "source": [
        "stock_df"
      ],
      "metadata": {
        "id": "D9iXsh5OrtRN"
      },
      "execution_count": null,
      "outputs": []
    },
    {
      "cell_type": "code",
      "source": [
        "stock_df.to_csv(r'demo.csv')"
      ],
      "metadata": {
        "id": "qHL8sn2XJBXT"
      },
      "execution_count": null,
      "outputs": []
    }
  ],
  "metadata": {
    "colab": {
      "provenance": [],
      "include_colab_link": true
    },
    "kernelspec": {
      "display_name": "Python 3",
      "name": "python3"
    },
    "language_info": {
      "name": "python"
    }
  },
  "nbformat": 4,
  "nbformat_minor": 0
}